{
 "cells": [
  {
   "cell_type": "markdown",
   "metadata": {},
   "source": [
    "# DEMO Valider Skattemelding"
   ]
  },
  {
   "cell_type": "markdown",
   "metadata": {},
   "source": [
    "Denne demoen er ment for å vise integrasjonene mot Skatteetaten sine nye validerings- og innsendingstjeneste."
   ]
  },
  {
   "cell_type": "code",
   "execution_count": 1,
   "metadata": {},
   "outputs": [],
   "source": [
    "try: \n",
    "    import requests\n",
    "    import base64\n",
    "    import xmltodict\n",
    "    import xml.dom.minidom\n",
    "    from hent import main_relay, base64_decode_response, decode_dokument\n",
    "    from portalmelding import valider_melding\n",
    "except ImportError as e:\n",
    "    try: \n",
    "        print(\"Mangler en avhengighet, installer dem via pip\")\n",
    "        !pip install python-jose[cryptography] cryptography\n",
    "        !pip install xmltodict\n",
    "        !pip install requests\n",
    "        import xmltodict\n",
    "        import requests\n",
    "        from hent import main_relay, base64_decode_response, decode_dokument\n",
    "        from portalmelding import valider_melding\n",
    "    except ImportError as err:\n",
    "        print(\"Mangler en avhengighet, installer dem via pip\")\n",
    "        !python3 -m pip install python-jose[cryptography] cryptography\n",
    "        !python3 -m pip install xmltodict\n",
    "        !python3 -m pip install requests\n",
    "        import xmltodict\n",
    "        import requests\n",
    "        from hent import main_relay, base64_decode_response, decode_dokument\n",
    "        from portalmelding import valider_melding\n"
   ]
  },
  {
   "cell_type": "markdown",
   "metadata": {},
   "source": [
    "## Generer ID-porten token\n",
    "Tokenet er gyldig i 300 sekunder, rekjørt denne biten om du ikke har kommet frem til validering biten før 300 sekunder "
   ]
  },
  {
   "cell_type": "code",
   "execution_count": 17,
   "metadata": {
    "scrolled": true
   },
   "outputs": [
    {
     "name": "stdout",
     "output_type": "stream",
     "text": [
      "https://oidc-ver2.difi.no/idporten-oidc-provider/authorize?scope=openid&acr_values=Level3&client_id=38e634d9-5682-44ae-9b60-db636efe3156&redirect_uri=http%3A%2F%2Flocalhost%3A12345%2Ftoken&response_type=code&state=2k82yX5qz6Th3cGMVKg8Vw&nonce=1611582049838370&resource=https%3A%2F%2Fmp-test.sits.no%2Fapi%2Feksterntapi%2Fformueinntekt%2Fskattemelding%2F&code_challenge=cwItgIHVrqpZ6C2DWLAP7H_zw15AIieECbgKbBfIQDo=&code_challenge_method=S256&ui_locales=nb\n",
      "Authorization token received\n",
      "State was 2k82yX5qz6Th3cGMVKg8Vw\n",
      "Query state length is 1\n",
      "Query state is 2k82yX5qz6Th3cGMVKg8Vw\n",
      "The token is good, expires in 300 seconds\n",
      "\n",
      "Bearer eyJraWQiOiJjWmswME1rbTVIQzRnN3Z0NmNwUDVGSFpMS0pzdzhmQkFJdUZiUzRSVEQ0IiwiYWxnIjoiUlMyNTYifQ.eyJzdWIiOiIzVXR0TXRvT2VLWmR6TmJPY3h3OUpST0dNVktVaDdFV2tHU0xoaDRVeUxBPSIsImlzcyI6Imh0dHBzOlwvXC9vaWRjLXZlcjIuZGlmaS5ub1wvaWRwb3J0ZW4tb2lkYy1wcm92aWRlclwvIiwiY2xpZW50X2FtciI6Im5vbmUiLCJwaWQiOiIwMTAyMzAwMDUxOSIsInRva2VuX3R5cGUiOiJCZWFyZXIiLCJjbGllbnRfaWQiOiIzOGU2MzRkOS01NjgyLTQ0YWUtOWI2MC1kYjYzNmVmZTMxNTYiLCJhdWQiOiJodHRwczpcL1wvbXAtdGVzdC5zaXRzLm5vXC9hcGlcL2Vrc3Rlcm50YXBpXC9mb3JtdWVpbm50ZWt0XC9za2F0dGVtZWxkaW5nXC8iLCJhY3IiOiJMZXZlbDMiLCJzY29wZSI6Im9wZW5pZCIsImV4cCI6MTYxMTU4MjM1MCwiaWF0IjoxNjExNTgyMDUwLCJjbGllbnRfb3Jnbm8iOiI5NzQ3NjEwNzYiLCJqdGkiOiJFRTl5VllTc19samxHYTRMN3kwUEN2T3hLZDc5dVlYMFBDMWZCRTQyd3VZIiwiY29uc3VtZXIiOnsiYXV0aG9yaXR5IjoiaXNvNjUyMy1hY3RvcmlkLXVwaXMiLCJJRCI6IjAxOTI6OTc0NzYxMDc2In19.PRwX6Qj0esLi2AERxKu0ykDWeJ5gVIdrIhD8jofvtu3BOcks8vuD024vSWG8ObhWzPy6hShWSDVvj6bMzXvU6BijhfWmi7D2ffGPydbFd4uQR9HpS_71OjouAsJ2rmC5INK4iDFaRAdW7LSG7rZk6vvJ8ScgyN9hQlAYHn6CsSpEoexpzo82AywwJ6_6eZDyBzavOFg1baWuciqPBzh3BKm9Eco9D5rdPc4gKM2S0H6TlL93JcpQgEwkTHpyFEg_vRTn5GRaAJ36qQOKYUf1VdfB1Onf9OsVtTCxH7UO_CkE-0Hmf0ZvX9TdHEs8jg_0DcsETwAFG764Git7YuZm3A\n"
     ]
    },
    {
     "name": "stderr",
     "output_type": "stream",
     "text": [
      "127.0.0.1 - - [25/Jan/2021 14:40:50] \"GET /token?code=B905Wh7Ox51U8-kPb0BnVtdNrNzWTODpye9F7D9qRfs&state=2k82yX5qz6Th3cGMVKg8Vw HTTP/1.1\" 200 -\n"
     ]
    }
   ],
   "source": [
    "idporten_header = main_relay()"
   ]
  },
  {
   "cell_type": "markdown",
   "metadata": {},
   "source": [
    "### Valider tjeneste"
   ]
  },
  {
   "cell_type": "code",
   "execution_count": 21,
   "metadata": {},
   "outputs": [
    {
     "ename": "HTTPError",
     "evalue": "403 Client Error: Forbidden for url: https://mp-test.sits.no/api/mva/mva-melding/valider",
     "output_type": "error",
     "traceback": [
      "\u001b[0;31m---------------------------------------------------------------------------\u001b[0m",
      "\u001b[0;31mHTTPError\u001b[0m                                 Traceback (most recent call last)",
      "\u001b[0;32m<ipython-input-21-c1273f66fd04>\u001b[0m in \u001b[0;36m<module>\u001b[0;34m\u001b[0m\n\u001b[1;32m     44\u001b[0m \u001b[0ms\u001b[0m \u001b[0;34m=\u001b[0m \u001b[0mrequests\u001b[0m\u001b[0;34m.\u001b[0m\u001b[0mSession\u001b[0m\u001b[0;34m(\u001b[0m\u001b[0;34m)\u001b[0m\u001b[0;34m\u001b[0m\u001b[0;34m\u001b[0m\u001b[0m\n\u001b[1;32m     45\u001b[0m \u001b[0ms\u001b[0m\u001b[0;34m.\u001b[0m\u001b[0mheaders\u001b[0m \u001b[0;34m=\u001b[0m \u001b[0mdict\u001b[0m\u001b[0;34m(\u001b[0m\u001b[0midporten_header\u001b[0m\u001b[0;34m)\u001b[0m\u001b[0;34m\u001b[0m\u001b[0;34m\u001b[0m\u001b[0m\n\u001b[0;32m---> 46\u001b[0;31m \u001b[0mreq_valider\u001b[0m \u001b[0;34m=\u001b[0m \u001b[0mvalider_melding\u001b[0m\u001b[0;34m(\u001b[0m\u001b[0mdict\u001b[0m\u001b[0;34m(\u001b[0m\u001b[0midporten_header\u001b[0m\u001b[0;34m)\u001b[0m\u001b[0;34m,\u001b[0m \u001b[0mxml\u001b[0m\u001b[0;34m=\u001b[0m\u001b[0mmelding_xml\u001b[0m\u001b[0;34m)\u001b[0m\u001b[0;34m\u001b[0m\u001b[0;34m\u001b[0m\u001b[0m\n\u001b[0m\u001b[1;32m     47\u001b[0m \u001b[0mreq_valider\u001b[0m\u001b[0;34m.\u001b[0m\u001b[0mstatus_code\u001b[0m\u001b[0;34m\u001b[0m\u001b[0;34m\u001b[0m\u001b[0m\n\u001b[1;32m     48\u001b[0m \u001b[0mreq_valider\u001b[0m\u001b[0;34m.\u001b[0m\u001b[0mcontent\u001b[0m\u001b[0;34m\u001b[0m\u001b[0;34m\u001b[0m\u001b[0m\n",
      "\u001b[0;32m/home/k18526/IdeaProjects/mva-melding-ekstern-doks/docs/documentation/test/testinnsending/portalmelding.py\u001b[0m in \u001b[0;36mvalider_melding\u001b[0;34m(token, xml)\u001b[0m\n\u001b[1;32m     12\u001b[0m     \u001b[0mtoken\u001b[0m\u001b[0;34m[\u001b[0m\u001b[0;34m\"content-type\"\u001b[0m\u001b[0;34m]\u001b[0m \u001b[0;34m=\u001b[0m \u001b[0;34m\"application/xml\"\u001b[0m\u001b[0;34m\u001b[0m\u001b[0;34m\u001b[0m\u001b[0m\n\u001b[1;32m     13\u001b[0m     \u001b[0mr\u001b[0m \u001b[0;34m=\u001b[0m \u001b[0mrequests\u001b[0m\u001b[0;34m.\u001b[0m\u001b[0mpost\u001b[0m\u001b[0;34m(\u001b[0m\u001b[0murl\u001b[0m\u001b[0;34m,\u001b[0m \u001b[0mdata\u001b[0m\u001b[0;34m=\u001b[0m\u001b[0mxml\u001b[0m\u001b[0;34m,\u001b[0m \u001b[0mheaders\u001b[0m\u001b[0;34m=\u001b[0m\u001b[0mtoken\u001b[0m\u001b[0;34m,\u001b[0m \u001b[0mverify\u001b[0m\u001b[0;34m=\u001b[0m\u001b[0;32mFalse\u001b[0m\u001b[0;34m)\u001b[0m\u001b[0;34m\u001b[0m\u001b[0;34m\u001b[0m\u001b[0m\n\u001b[0;32m---> 14\u001b[0;31m     \u001b[0mr\u001b[0m\u001b[0;34m.\u001b[0m\u001b[0mraise_for_status\u001b[0m\u001b[0;34m(\u001b[0m\u001b[0;34m)\u001b[0m\u001b[0;34m\u001b[0m\u001b[0;34m\u001b[0m\u001b[0m\n\u001b[0m\u001b[1;32m     15\u001b[0m     \u001b[0;32mreturn\u001b[0m \u001b[0mr\u001b[0m\u001b[0;34m\u001b[0m\u001b[0;34m\u001b[0m\u001b[0m\n\u001b[1;32m     16\u001b[0m \u001b[0;34m\u001b[0m\u001b[0m\n",
      "\u001b[0;32m/home/k18526/snap/jupyter/common/lib/python3.7/site-packages/requests/models.py\u001b[0m in \u001b[0;36mraise_for_status\u001b[0;34m(self)\u001b[0m\n\u001b[1;32m    941\u001b[0m \u001b[0;34m\u001b[0m\u001b[0m\n\u001b[1;32m    942\u001b[0m         \u001b[0;32mif\u001b[0m \u001b[0mhttp_error_msg\u001b[0m\u001b[0;34m:\u001b[0m\u001b[0;34m\u001b[0m\u001b[0;34m\u001b[0m\u001b[0m\n\u001b[0;32m--> 943\u001b[0;31m             \u001b[0;32mraise\u001b[0m \u001b[0mHTTPError\u001b[0m\u001b[0;34m(\u001b[0m\u001b[0mhttp_error_msg\u001b[0m\u001b[0;34m,\u001b[0m \u001b[0mresponse\u001b[0m\u001b[0;34m=\u001b[0m\u001b[0mself\u001b[0m\u001b[0;34m)\u001b[0m\u001b[0;34m\u001b[0m\u001b[0;34m\u001b[0m\u001b[0m\n\u001b[0m\u001b[1;32m    944\u001b[0m \u001b[0;34m\u001b[0m\u001b[0m\n\u001b[1;32m    945\u001b[0m     \u001b[0;32mdef\u001b[0m \u001b[0mclose\u001b[0m\u001b[0;34m(\u001b[0m\u001b[0mself\u001b[0m\u001b[0;34m)\u001b[0m\u001b[0;34m:\u001b[0m\u001b[0;34m\u001b[0m\u001b[0;34m\u001b[0m\u001b[0m\n",
      "\u001b[0;31mHTTPError\u001b[0m: 403 Client Error: Forbidden for url: https://mp-test.sits.no/api/mva/mva-melding/valider"
     ]
    }
   ],
   "source": [
    "melding_xml = f\"\"\"\n",
    "<?xml version=\"1.1\" encoding=\"UTF-8\"?>\n",
    "<mvaMeldingDto xmlns=\"no:skatteetaten:fastsetting:avgift:mva:skattemeldingformerverdiavgift:v0.9\">\n",
    "<innsending>\n",
    "<regnskapssystemsreferanse>3</regnskapssystemsreferanse>\n",
    "<regnskapssystem>\n",
    "<systemnavn>zzx</systemnavn>\n",
    "<systemversjon>4.34.3</systemversjon>\n",
    "</regnskapssystem>\n",
    "<innsender>\n",
    "<norskIdentifikator>02067623456</norskIdentifikator>\n",
    "</innsender>\n",
    "<innsendingTidspunkt>2022-05-26T21:35:47Z</innsendingTidspunkt>\n",
    "</innsending>\n",
    "<skattegrunnlagOgBeregnetSkatt>\n",
    "    <skattleggingsperiode>\n",
    "    <periode>\n",
    "    <skattleggingsperiodeToMaaneder>mars-april</skattleggingsperiodeToMaaneder>\n",
    "    </periode>\n",
    "    <aar>2022</aar>\n",
    "    </skattleggingsperiode>\n",
    "    <fastsattMerverdiavgift>5000</fastsattMerverdiavgift>\n",
    "    <mvaSpesifikasjonslinje>\n",
    "<mvaKode>3</mvaKode>\n",
    "<mvaKodeRegnskapsystem>25 utgående mva</mvaKodeRegnskapsystem>\n",
    "<grunnlag>20000</grunnlag>\n",
    "<sats>25</sats>\n",
    "<merverdiavgift>5000</merverdiavgift>\n",
    "</mvaSpesifikasjonslinje>\n",
    "</skattegrunnlagOgBeregnetSkatt>\n",
    "    <betalingsinformasjon>\n",
    "<kontonummerForTilbakebetaling>\n",
    "<norskKontonummer>999999999</norskKontonummer>\n",
    "</kontonummerForTilbakebetaling>\n",
    "<kundeIdentifikasjonsnummer>3400000932456870</kundeIdentifikasjonsnummer>\n",
    "</betalingsinformasjon>\n",
    "    <skattepliktig>\n",
    "<organisasjonsnummer>913238254</organisasjonsnummer>\n",
    "</skattepliktig>\n",
    "    <meldingskategori>alminnelig</meldingskategori>\n",
    "</mvaMeldingDto>\n",
    "\"\"\".replace(\"\\n\",\"\")\n",
    "\n",
    "s = requests.Session()\n",
    "s.headers = dict(idporten_header)\n",
    "req_valider = valider_melding(dict(idporten_header), xml=melding_xml)\n",
    "req_valider.status_code \n",
    "req_valider.content"
   ]
  },
  {
   "cell_type": "code",
   "execution_count": null,
   "metadata": {},
   "outputs": [],
   "source": []
  }
 ],
 "metadata": {
  "kernelspec": {
   "display_name": "Python 3",
   "language": "python",
   "name": "python3"
  },
  "language_info": {
   "codemirror_mode": {
    "name": "ipython",
    "version": 3
   },
   "file_extension": ".py",
   "mimetype": "text/x-python",
   "name": "python",
   "nbconvert_exporter": "python",
   "pygments_lexer": "ipython3",
   "version": "3.7.3"
  }
 },
 "nbformat": 4,
 "nbformat_minor": 4
}
